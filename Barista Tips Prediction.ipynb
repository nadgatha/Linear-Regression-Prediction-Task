{
 "cells": [
  {
   "cell_type": "markdown",
   "metadata": {},
   "source": [
    "# **BARISTA TIPS PREDICTION**"
   ]
  },
  {
   "cell_type": "markdown",
   "metadata": {},
   "source": [
    "Sebagai implementasi materi Linear Regression pada Machine Learning, saya menggunakan dataset Barista Tips untuk memprediksi \"Tips\" yang didapatkan seorang barista berdasarkan features sebagai variable pendukung. Dataset berikut berisi kolom-kolom:\n",
    "1. Tips : Uang yang didapatkan seorang barista\n",
    "2. Day of Week : Hari bekerja\n",
    "3. Hours Worked : Lama Waktu bekerja (jam)\n",
    "4. Shift Start Time : Jam mulai bekerja pada hari itu\n",
    "5. Shift End Time : Jam selesai bekerja pada hari itu\n",
    "6. Dollar/Hour : Upah yang didapatkan per-jam. "
   ]
  },
  {
   "cell_type": "markdown",
   "metadata": {},
   "source": [
    "Sebelum melakukan prediksi, hal pertama yang harus dilakukan ialah melakukan import library sesuai dengan kebutuhan data. Lalu load data yang akan dianalisis."
   ]
  },
  {
   "cell_type": "code",
   "execution_count": 32,
   "metadata": {},
   "outputs": [],
   "source": [
    "#Import Library\n",
    "\n",
    "import statsmodels.api as sm\n",
    "import seaborn as sns\n",
    "import matplotlib.pyplot as plt\n",
    "import pandas as pd\n",
    "import numpy as np"
   ]
  },
  {
   "cell_type": "code",
   "execution_count": 33,
   "metadata": {},
   "outputs": [
    {
     "data": {
      "text/html": [
       "<div>\n",
       "<style scoped>\n",
       "    .dataframe tbody tr th:only-of-type {\n",
       "        vertical-align: middle;\n",
       "    }\n",
       "\n",
       "    .dataframe tbody tr th {\n",
       "        vertical-align: top;\n",
       "    }\n",
       "\n",
       "    .dataframe thead th {\n",
       "        text-align: right;\n",
       "    }\n",
       "</style>\n",
       "<table border=\"1\" class=\"dataframe\">\n",
       "  <thead>\n",
       "    <tr style=\"text-align: right;\">\n",
       "      <th></th>\n",
       "      <th>Tips</th>\n",
       "      <th>Day of Week</th>\n",
       "      <th>Hours Worked</th>\n",
       "      <th>Shift Start Time</th>\n",
       "      <th>Shift End Time</th>\n",
       "      <th>Dollar/Hour</th>\n",
       "    </tr>\n",
       "  </thead>\n",
       "  <tbody>\n",
       "    <tr>\n",
       "      <th>0</th>\n",
       "      <td>63</td>\n",
       "      <td>Mon</td>\n",
       "      <td>8</td>\n",
       "      <td>7</td>\n",
       "      <td>15</td>\n",
       "      <td>7.875000</td>\n",
       "    </tr>\n",
       "    <tr>\n",
       "      <th>1</th>\n",
       "      <td>58</td>\n",
       "      <td>Tue</td>\n",
       "      <td>8</td>\n",
       "      <td>7</td>\n",
       "      <td>15</td>\n",
       "      <td>7.250000</td>\n",
       "    </tr>\n",
       "    <tr>\n",
       "      <th>2</th>\n",
       "      <td>28</td>\n",
       "      <td>Wed</td>\n",
       "      <td>6</td>\n",
       "      <td>10</td>\n",
       "      <td>16</td>\n",
       "      <td>4.666667</td>\n",
       "    </tr>\n",
       "    <tr>\n",
       "      <th>3</th>\n",
       "      <td>32</td>\n",
       "      <td>Thu</td>\n",
       "      <td>6</td>\n",
       "      <td>10</td>\n",
       "      <td>16</td>\n",
       "      <td>5.333333</td>\n",
       "    </tr>\n",
       "    <tr>\n",
       "      <th>4</th>\n",
       "      <td>34</td>\n",
       "      <td>Fri</td>\n",
       "      <td>7</td>\n",
       "      <td>9</td>\n",
       "      <td>16</td>\n",
       "      <td>4.857143</td>\n",
       "    </tr>\n",
       "  </tbody>\n",
       "</table>\n",
       "</div>"
      ],
      "text/plain": [
       "   Tips Day of Week  Hours Worked  Shift Start Time  Shift End Time  \\\n",
       "0    63         Mon             8                 7              15   \n",
       "1    58         Tue             8                 7              15   \n",
       "2    28         Wed             6                10              16   \n",
       "3    32         Thu             6                10              16   \n",
       "4    34         Fri             7                 9              16   \n",
       "\n",
       "   Dollar/Hour  \n",
       "0     7.875000  \n",
       "1     7.250000  \n",
       "2     4.666667  \n",
       "3     5.333333  \n",
       "4     4.857143  "
      ]
     },
     "execution_count": 33,
     "metadata": {},
     "output_type": "execute_result"
    }
   ],
   "source": [
    "#Load Data\n",
    "\n",
    "barista = pd.read_csv('Project Data - Sheet1.csv')\n",
    "barista.head() #menampilkan 5 baris teratas"
   ]
  },
  {
   "cell_type": "markdown",
   "metadata": {},
   "source": [
    "### **Data Cleaning**"
   ]
  },
  {
   "cell_type": "code",
   "execution_count": 34,
   "metadata": {},
   "outputs": [
    {
     "name": "stdout",
     "output_type": "stream",
     "text": [
      "<class 'pandas.core.frame.DataFrame'>\n",
      "RangeIndex: 49 entries, 0 to 48\n",
      "Data columns (total 6 columns):\n",
      " #   Column            Non-Null Count  Dtype  \n",
      "---  ------            --------------  -----  \n",
      " 0   Tips              49 non-null     int64  \n",
      " 1   Day of Week       49 non-null     object \n",
      " 2   Hours Worked      49 non-null     int64  \n",
      " 3   Shift Start Time  49 non-null     int64  \n",
      " 4   Shift End Time    49 non-null     int64  \n",
      " 5   Dollar/Hour       49 non-null     float64\n",
      "dtypes: float64(1), int64(4), object(1)\n",
      "memory usage: 2.4+ KB\n"
     ]
    }
   ],
   "source": [
    "#Mengecek informasi dataset seperti tipe data per-kolom\n",
    "barista.info()"
   ]
  },
  {
   "cell_type": "code",
   "execution_count": 35,
   "metadata": {},
   "outputs": [
    {
     "data": {
      "text/plain": [
       "Tips                0\n",
       "Day of Week         0\n",
       "Hours Worked        0\n",
       "Shift Start Time    0\n",
       "Shift End Time      0\n",
       "Dollar/Hour         0\n",
       "dtype: int64"
      ]
     },
     "execution_count": 35,
     "metadata": {},
     "output_type": "execute_result"
    }
   ],
   "source": [
    "#Mengecek missing value \n",
    "barista.isna().sum()"
   ]
  },
  {
   "cell_type": "code",
   "execution_count": 36,
   "metadata": {},
   "outputs": [
    {
     "data": {
      "text/html": [
       "<div>\n",
       "<style scoped>\n",
       "    .dataframe tbody tr th:only-of-type {\n",
       "        vertical-align: middle;\n",
       "    }\n",
       "\n",
       "    .dataframe tbody tr th {\n",
       "        vertical-align: top;\n",
       "    }\n",
       "\n",
       "    .dataframe thead th {\n",
       "        text-align: right;\n",
       "    }\n",
       "</style>\n",
       "<table border=\"1\" class=\"dataframe\">\n",
       "  <thead>\n",
       "    <tr style=\"text-align: right;\">\n",
       "      <th></th>\n",
       "      <th>Tips</th>\n",
       "      <th>Day of Week</th>\n",
       "      <th>Hours Worked</th>\n",
       "      <th>Shift Start Time</th>\n",
       "      <th>Shift End Time</th>\n",
       "      <th>Dollar/Hour</th>\n",
       "    </tr>\n",
       "  </thead>\n",
       "  <tbody>\n",
       "    <tr>\n",
       "      <th>29</th>\n",
       "      <td>62</td>\n",
       "      <td>Tue</td>\n",
       "      <td>8</td>\n",
       "      <td>7</td>\n",
       "      <td>15</td>\n",
       "      <td>7.750000</td>\n",
       "    </tr>\n",
       "    <tr>\n",
       "      <th>33</th>\n",
       "      <td>29</td>\n",
       "      <td>Sat</td>\n",
       "      <td>7</td>\n",
       "      <td>9</td>\n",
       "      <td>16</td>\n",
       "      <td>4.142857</td>\n",
       "    </tr>\n",
       "    <tr>\n",
       "      <th>34</th>\n",
       "      <td>26</td>\n",
       "      <td>Sun</td>\n",
       "      <td>7</td>\n",
       "      <td>9</td>\n",
       "      <td>16</td>\n",
       "      <td>3.714286</td>\n",
       "    </tr>\n",
       "    <tr>\n",
       "      <th>43</th>\n",
       "      <td>58</td>\n",
       "      <td>Tue</td>\n",
       "      <td>8</td>\n",
       "      <td>7</td>\n",
       "      <td>15</td>\n",
       "      <td>7.250000</td>\n",
       "    </tr>\n",
       "    <tr>\n",
       "      <th>44</th>\n",
       "      <td>29</td>\n",
       "      <td>Wed</td>\n",
       "      <td>6</td>\n",
       "      <td>10</td>\n",
       "      <td>16</td>\n",
       "      <td>4.833333</td>\n",
       "    </tr>\n",
       "    <tr>\n",
       "      <th>47</th>\n",
       "      <td>30</td>\n",
       "      <td>Sat</td>\n",
       "      <td>7</td>\n",
       "      <td>9</td>\n",
       "      <td>16</td>\n",
       "      <td>4.285714</td>\n",
       "    </tr>\n",
       "  </tbody>\n",
       "</table>\n",
       "</div>"
      ],
      "text/plain": [
       "    Tips Day of Week  Hours Worked  Shift Start Time  Shift End Time  \\\n",
       "29    62         Tue             8                 7              15   \n",
       "33    29         Sat             7                 9              16   \n",
       "34    26         Sun             7                 9              16   \n",
       "43    58         Tue             8                 7              15   \n",
       "44    29         Wed             6                10              16   \n",
       "47    30         Sat             7                 9              16   \n",
       "\n",
       "    Dollar/Hour  \n",
       "29     7.750000  \n",
       "33     4.142857  \n",
       "34     3.714286  \n",
       "43     7.250000  \n",
       "44     4.833333  \n",
       "47     4.285714  "
      ]
     },
     "execution_count": 36,
     "metadata": {},
     "output_type": "execute_result"
    }
   ],
   "source": [
    "#Mengecek Duplicate Value\n",
    "barista[barista.duplicated()]"
   ]
  },
  {
   "cell_type": "markdown",
   "metadata": {},
   "source": [
    "Terdapat duplikasi data. Namun dilihat dahulu distribusi data dan outliersnya. Jika sangat jauh dari nilai tengah maka akan di drop."
   ]
  },
  {
   "cell_type": "code",
   "execution_count": 48,
   "metadata": {},
   "outputs": [
    {
     "data": {
      "text/html": [
       "<div>\n",
       "<style scoped>\n",
       "    .dataframe tbody tr th:only-of-type {\n",
       "        vertical-align: middle;\n",
       "    }\n",
       "\n",
       "    .dataframe tbody tr th {\n",
       "        vertical-align: top;\n",
       "    }\n",
       "\n",
       "    .dataframe thead th {\n",
       "        text-align: right;\n",
       "    }\n",
       "</style>\n",
       "<table border=\"1\" class=\"dataframe\">\n",
       "  <thead>\n",
       "    <tr style=\"text-align: right;\">\n",
       "      <th></th>\n",
       "      <th>Columns</th>\n",
       "      <th>Tipe Data</th>\n",
       "      <th>N Unique</th>\n",
       "      <th>Unique Sample</th>\n",
       "    </tr>\n",
       "  </thead>\n",
       "  <tbody>\n",
       "    <tr>\n",
       "      <th>0</th>\n",
       "      <td>Tips</td>\n",
       "      <td>int64</td>\n",
       "      <td>28</td>\n",
       "      <td>[37, 30]</td>\n",
       "    </tr>\n",
       "    <tr>\n",
       "      <th>1</th>\n",
       "      <td>Day of Week</td>\n",
       "      <td>object</td>\n",
       "      <td>7</td>\n",
       "      <td>[Tue, Sun]</td>\n",
       "    </tr>\n",
       "    <tr>\n",
       "      <th>2</th>\n",
       "      <td>Hours Worked</td>\n",
       "      <td>int64</td>\n",
       "      <td>3</td>\n",
       "      <td>[6, 7]</td>\n",
       "    </tr>\n",
       "    <tr>\n",
       "      <th>3</th>\n",
       "      <td>Shift Start Time</td>\n",
       "      <td>int64</td>\n",
       "      <td>3</td>\n",
       "      <td>[9, 7]</td>\n",
       "    </tr>\n",
       "    <tr>\n",
       "      <th>4</th>\n",
       "      <td>Shift End Time</td>\n",
       "      <td>int64</td>\n",
       "      <td>2</td>\n",
       "      <td>[15, 16]</td>\n",
       "    </tr>\n",
       "    <tr>\n",
       "      <th>5</th>\n",
       "      <td>Dollar/Hour</td>\n",
       "      <td>float64</td>\n",
       "      <td>31</td>\n",
       "      <td>[7.25, 4.428571429]</td>\n",
       "    </tr>\n",
       "  </tbody>\n",
       "</table>\n",
       "</div>"
      ],
      "text/plain": [
       "            Columns Tipe Data  N Unique        Unique Sample\n",
       "0              Tips     int64        28             [37, 30]\n",
       "1       Day of Week    object         7           [Tue, Sun]\n",
       "2      Hours Worked     int64         3               [6, 7]\n",
       "3  Shift Start Time     int64         3               [9, 7]\n",
       "4    Shift End Time     int64         2             [15, 16]\n",
       "5       Dollar/Hour   float64        31  [7.25, 4.428571429]"
      ]
     },
     "execution_count": 48,
     "metadata": {},
     "output_type": "execute_result"
    }
   ],
   "source": [
    "#Menampilkan nama kolom, tipe data, jumlah unique value, dan unique valuee\n",
    "\n",
    "list_data = []\n",
    "for i in barista.columns :\n",
    "    list_data.append([\n",
    "        i, #nama kolom\n",
    "        barista[i].dtype, #tipe data dari setiap kolom\n",
    "        barista[i].nunique(), #jumlah unique value \n",
    "        list(barista[i].drop_duplicates().sample(2).values) #unique values\n",
    "    ])\n",
    "\n",
    "pd.DataFrame(list_data, columns = ['Columns', 'Tipe Data', 'N Unique', 'Unique Sample'])"
   ]
  },
  {
   "cell_type": "markdown",
   "metadata": {},
   "source": [
    "### **Simple EDA**"
   ]
  },
  {
   "cell_type": "markdown",
   "metadata": {},
   "source": [
    "#### **Menampilkan Distribusi Data dan Outliers**"
   ]
  },
  {
   "cell_type": "code",
   "execution_count": 45,
   "metadata": {},
   "outputs": [
    {
     "data": {
      "image/png": "[encoded data removed]",
      "text/plain": [
       "<Figure size 2000x2000 with 5 Axes>"
      ]
     },
     "metadata": {},
     "output_type": "display_data"
    }
   ],
   "source": [
    "#Membuat variable yang berisi variable numerik\n",
    "data = barista[['Tips','Hours Worked','Shift Start Time','Shift End Time','Dollar/Hour']]\n",
    "\n",
    "#Membuat kanvas grafik\n",
    "plt.figure(figsize=(20,20))\n",
    "\n",
    "#Code Utama\n",
    "for i, column in enumerate(data,1):\n",
    "    plt.subplot(4,3,i)\n",
    "    sns.boxplot(data= barista[column])\n",
    "    plt.title(f'Boxplot of {column}')\n",
    "plt.tight_layout()\n",
    "plt.show()"
   ]
  },
  {
   "cell_type": "markdown",
   "metadata": {},
   "source": [
    "Dari tampilan 5 boxplot diatas, bisa dilihat tidak terdapat outlier pada kolom-kolom numerik. Namun perlu dilakukan uji normalitas untuk memastikan apakah data terdistribusi normal atau tidak."
   ]
  },
  {
   "cell_type": "markdown",
   "metadata": {},
   "source": [
    "#### **Uji Normalitas pada Kolom Numerik**"
   ]
  },
  {
   "cell_type": "code",
   "execution_count": 52,
   "metadata": {},
   "outputs": [
    {
     "name": "stdout",
     "output_type": "stream",
     "text": [
      "Jika p-value > 0,05 maka data terdistribusi normal\n",
      "Jika p-value < 0,05 maka data terdistribusi tidak normal\n",
      "\n",
      "\n",
      "Hasil Uji Normalitas\n"
     ]
    },
    {
     "data": {
      "text/html": [
       "<div>\n",
       "<style scoped>\n",
       "    .dataframe tbody tr th:only-of-type {\n",
       "        vertical-align: middle;\n",
       "    }\n",
       "\n",
       "    .dataframe tbody tr th {\n",
       "        vertical-align: top;\n",
       "    }\n",
       "\n",
       "    .dataframe thead tr th {\n",
       "        text-align: left;\n",
       "    }\n",
       "</style>\n",
       "<table border=\"1\" class=\"dataframe\">\n",
       "  <thead>\n",
       "    <tr>\n",
       "      <th></th>\n",
       "      <th>Nama kolom</th>\n",
       "      <th>p-value</th>\n",
       "      <th>Distribusi</th>\n",
       "    </tr>\n",
       "  </thead>\n",
       "  <tbody>\n",
       "    <tr>\n",
       "      <th>0</th>\n",
       "      <td>Tips</td>\n",
       "      <td>0.0</td>\n",
       "      <td>distribusi tidak normal</td>\n",
       "    </tr>\n",
       "    <tr>\n",
       "      <th>1</th>\n",
       "      <td>Hours Worked</td>\n",
       "      <td>0.0</td>\n",
       "      <td>distribusi tidak normal</td>\n",
       "    </tr>\n",
       "    <tr>\n",
       "      <th>2</th>\n",
       "      <td>Shift Start Time</td>\n",
       "      <td>0.0</td>\n",
       "      <td>distribusi tidak normal</td>\n",
       "    </tr>\n",
       "    <tr>\n",
       "      <th>3</th>\n",
       "      <td>Shift End Time</td>\n",
       "      <td>0.0</td>\n",
       "      <td>distribusi tidak normal</td>\n",
       "    </tr>\n",
       "    <tr>\n",
       "      <th>4</th>\n",
       "      <td>Dollar/Hour</td>\n",
       "      <td>0.0</td>\n",
       "      <td>distribusi tidak normal</td>\n",
       "    </tr>\n",
       "  </tbody>\n",
       "</table>\n",
       "</div>"
      ],
      "text/plain": [
       "         Nama kolom p-value               Distribusi\n",
       "0              Tips     0.0  distribusi tidak normal\n",
       "1      Hours Worked     0.0  distribusi tidak normal\n",
       "2  Shift Start Time     0.0  distribusi tidak normal\n",
       "3    Shift End Time     0.0  distribusi tidak normal\n",
       "4       Dollar/Hour     0.0  distribusi tidak normal"
      ]
     },
     "execution_count": 52,
     "metadata": {},
     "output_type": "execute_result"
    }
   ],
   "source": [
    "#Import Library untuk uji Normalitas\n",
    "from scipy.stats import kstest\n",
    "\n",
    "#List kosong untuk menaruh hasil uji distribusi setiap kolom\n",
    "list_distribusi = []\n",
    "\n",
    "#Melakukan looping uji normalitas untuk setiap kolom yang sudah ditaruh dalam list feature_column\n",
    "for i in data : \n",
    "    ks,pvalue = kstest((barista[i]), 'norm')\n",
    "    if pvalue> 0.05:\n",
    "        list_distribusi.append([i,round(pvalue,2), 'distribusi normal'])\n",
    "    else :\n",
    "        list_distribusi.append([i,round(pvalue,2), 'distribusi tidak normal'])\n",
    "\n",
    "print('Jika p-value > 0,05 maka data terdistribusi normal')\n",
    "print('Jika p-value < 0,05 maka data terdistribusi tidak normal')\n",
    "print(f'\\n')\n",
    "print('Hasil Uji Normalitas')\n",
    "pd.DataFrame(list_distribusi, columns =[['Nama kolom','p-value','Distribusi']])"
   ]
  },
  {
   "cell_type": "markdown",
   "metadata": {},
   "source": [
    "Berdasarkan hasil uji normalitas diatas, diketahui data-data pada kolom 'Tips','Hours Worked','Shift Start Time','Shift End Time','Dollar/Hour' **terdistribusi tidak normal**."
   ]
  },
  {
   "cell_type": "markdown",
   "metadata": {},
   "source": [
    "#### **Uji Korelasi Antar Kolom**"
   ]
  },
  {
   "cell_type": "code",
   "execution_count": 54,
   "metadata": {},
   "outputs": [
    {
     "data": {
      "image/png": "[encoded data removed]",
      "text/plain": [
       "<Figure size 1200x600 with 2 Axes>"
      ]
     },
     "metadata": {},
     "output_type": "display_data"
    }
   ],
   "source": [
    "#Membuat Canvas Plot\n",
    "plt.figure(figsize=(12,6))\n",
    "\n",
    "#memfilter agar tidak ada duplikasi pada korelasi antar kolom yang ditampilkan\n",
    "matrix = np.triu(data.corr('spearman'))\n",
    "\n",
    "#Visualisasi Korelasi antar Kolom\n",
    "sns.heatmap(\n",
    "    data=data.corr('spearman'), \n",
    "    annot=True,  #menampilkan nilai korelasinya\n",
    "    mask=matrix, #untuk menampilkan salah satu sisi korelasinya saja\n",
    "    cmap='PiYG' #customize warna heatmap\n",
    ")\n",
    "\n",
    "#Menampilkan Judul \n",
    "plt.title('Korelasi Antar Kolom')\n",
    "\n",
    "#Menampilkan grafik\n",
    "plt.show()"
   ]
  },
  {
   "cell_type": "markdown",
   "metadata": {},
   "source": [
    "Berdasarkan uji korelasi antar kolom dengan Heatmap, maka hasil yang diperoleh:\n",
    " - Korelasi positif berada pada range 0,46 hingga 0,94.\n",
    " - Korelasi negatif berada pada range -0,46 hingga -1. "
   ]
  },
  {
   "cell_type": "markdown",
   "metadata": {},
   "source": [
    "#### **Menampilkan Korelasi Antara Dollar/Hour dengan Tips dengan Scatterplot**"
   ]
  },
  {
   "cell_type": "code",
   "execution_count": 39,
   "metadata": {},
   "outputs": [
    {
     "data": {
      "text/plain": [
       "<Axes: xlabel='Dollar/Hour', ylabel='Tips'>"
      ]
     },
     "execution_count": 39,
     "metadata": {},
     "output_type": "execute_result"
    },
    {
     "data": {
      "image/png": "[encoded data removed]",
      "text/plain": [
       "<Figure size 640x480 with 1 Axes>"
      ]
     },
     "metadata": {},
     "output_type": "display_data"
    }
   ],
   "source": [
    "#Melihat korelasi antara Dollar/Hour dengan Tips dengan Scatterplot\n",
    "sns.scatterplot(data=barista, x=barista['Dollar/Hour'], y=barista['Tips'])"
   ]
  },
  {
   "cell_type": "markdown",
   "metadata": {},
   "source": [
    "Hubungan antara Dollar/Hour dengan Tips adalah positif."
   ]
  },
  {
   "cell_type": "markdown",
   "metadata": {},
   "source": [
    "### **Regression Model**"
   ]
  },
  {
   "cell_type": "markdown",
   "metadata": {},
   "source": [
    "#### **Simple Regression Model**"
   ]
  },
  {
   "cell_type": "code",
   "execution_count": 55,
   "metadata": {},
   "outputs": [
    {
     "name": "stdout",
     "output_type": "stream",
     "text": [
      "                            OLS Regression Results                            \n",
      "==============================================================================\n",
      "Dep. Variable:                   Tips   R-squared:                       0.941\n",
      "Model:                            OLS   Adj. R-squared:                  0.940\n",
      "Method:                 Least Squares   F-statistic:                     756.2\n",
      "Date:                Mon, 18 Sep 2023   Prob (F-statistic):           1.28e-30\n",
      "Time:                        21:53:25   Log-Likelihood:                -130.35\n",
      "No. Observations:                  49   AIC:                             264.7\n",
      "Df Residuals:                      47   BIC:                             268.5\n",
      "Df Model:                           1                                         \n",
      "Covariance Type:            nonrobust                                         \n",
      "===============================================================================\n",
      "                  coef    std err          t      P>|t|      [0.025      0.975]\n",
      "-------------------------------------------------------------------------------\n",
      "const         -10.6405      1.838     -5.789      0.000     -14.338      -6.943\n",
      "Dollar/Hour     9.1268      0.332     27.500      0.000       8.459       9.794\n",
      "==============================================================================\n",
      "Omnibus:                        8.513   Durbin-Watson:                   1.461\n",
      "Prob(Omnibus):                  0.014   Jarque-Bera (JB):                8.797\n",
      "Skew:                          -1.038   Prob(JB):                       0.0123\n",
      "Kurtosis:                       2.953   Cond. No.                         20.8\n",
      "==============================================================================\n",
      "\n",
      "Notes:\n",
      "[1] Standard Errors assume that the covariance matrix of the errors is correctly specified.\n"
     ]
    }
   ],
   "source": [
    "#Memprediksi 'Tips' yang didapat seorang barista berdasarkan faktor 'Dollar/Hour'\n",
    "\n",
    "reg_model1 = sm.OLS(barista['Tips'], sm.add_constant(barista['Dollar/Hour']))\n",
    "hasil = reg_model1.fit()\n",
    "print(hasil.summary())"
   ]
  },
  {
   "cell_type": "markdown",
   "metadata": {},
   "source": [
    "Berdasarkan hasil summary diatas, maka dapar dilihat:\n",
    "1. **R-squared : 0.941**\n",
    "    - artinya, Nilai Dollar/Hour mempengaruhi Tips sebesar 94,1%.\n",
    "2. **Prob (F-statistic): 1.28e-30**\n",
    "    - Berdasarkan hasil uji Anova, maka hipotesisnya adalah :\n",
    "        - H0 = beta tidak berpengaruh signifikan terhadap model (beta=0), p-value > 0,05.\n",
    "        - H1 = beta berpengaruh signifikan terhadap model (beta!=0), p-value < 0,05.\n",
    "    - Hasil uji Anova diatas menunjukkan p-value < 0,05 maka tolak H0, atau dapat dikatakan beta berpengaruh signifikan terhadap model."
   ]
  },
  {
   "cell_type": "code",
   "execution_count": 56,
   "metadata": {},
   "outputs": [
    {
     "name": "stdout",
     "output_type": "stream",
     "text": [
      "tips yang diperoleh bila Dollar/Hour 10 adalah 80.6275\n"
     ]
    }
   ],
   "source": [
    "#Prediksi Tips yang diperoleh berdasarkan Uji Simple Regression diatas\n",
    "\n",
    "def model(x) :\n",
    "    Y = -10.6405 + (9.1268*x)\n",
    "    return Y\n",
    "\n",
    "print(f'tips yang diperoleh bila Dollar/Hour 10 adalah {model(10)}') #bila Dollar/Hour 10"
   ]
  },
  {
   "cell_type": "markdown",
   "metadata": {},
   "source": [
    "#### **Multiple Regression Model**"
   ]
  },
  {
   "cell_type": "code",
   "execution_count": 57,
   "metadata": {},
   "outputs": [
    {
     "name": "stdout",
     "output_type": "stream",
     "text": [
      "                            OLS Regression Results                            \n",
      "==============================================================================\n",
      "Dep. Variable:                   Tips   R-squared:                       0.998\n",
      "Model:                            OLS   Adj. R-squared:                  0.998\n",
      "Method:                 Least Squares   F-statistic:                     9748.\n",
      "Date:                Mon, 18 Sep 2023   Prob (F-statistic):           3.56e-61\n",
      "Time:                        22:10:22   Log-Likelihood:                -51.629\n",
      "No. Observations:                  49   AIC:                             109.3\n",
      "Df Residuals:                      46   BIC:                             114.9\n",
      "Df Model:                           2                                         \n",
      "Covariance Type:            nonrobust                                         \n",
      "================================================================================\n",
      "                   coef    std err          t      P>|t|      [0.025      0.975]\n",
      "--------------------------------------------------------------------------------\n",
      "const          -40.9150      0.987    -41.458      0.000     -42.902     -38.928\n",
      "Hours Worked     5.5817      0.168     33.128      0.000       5.243       5.921\n",
      "Dollar/Hour      7.4746      0.084     89.246      0.000       7.306       7.643\n",
      "==============================================================================\n",
      "Omnibus:                       12.882   Durbin-Watson:                   1.625\n",
      "Prob(Omnibus):                  0.002   Jarque-Bera (JB):               22.256\n",
      "Skew:                           0.707   Prob(JB):                     1.47e-05\n",
      "Kurtosis:                       5.984   Cond. No.                         87.5\n",
      "==============================================================================\n",
      "\n",
      "Notes:\n",
      "[1] Standard Errors assume that the covariance matrix of the errors is correctly specified.\n"
     ]
    }
   ],
   "source": [
    "#Memprediksi 'Tips' yang didapat seorang barista berdasarkan faktor 'Hours Worked' dan 'Dollar/Hour'\n",
    "\n",
    "reg_model2 = sm.OLS(barista['Tips'], sm.add_constant(barista[['Hours Worked','Dollar/Hour']]))\n",
    "hasil = reg_model2.fit()\n",
    "print(hasil.summary())"
   ]
  },
  {
   "cell_type": "markdown",
   "metadata": {},
   "source": [
    "Berdasarkan hasil summary diatas, maka dapar dilihat:\n",
    "1. **R-squared : 0.998**\n",
    "    - artinya, Nilai Dollar/Hour mempengaruhi Tips sebesar 99,8%.\n",
    "2. **Prob (F-statistic): 3.56e-61**\n",
    "    - Berdasarkan hasil uji Anova, maka hipotesisnya adalah :\n",
    "        - H0 = beta tidak berpengaruh signifikan terhadap model (beta=0), p-value > 0,05.\n",
    "        - H1 = beta berpengaruh signifikan terhadap model (beta!=0), p-value < 0,05.\n",
    "    - Hasil uji Anova diatas menunjukkan p-value < 0,05 maka tolak H0, atau dapat dikatakan beta berpengaruh signifikan terhadap model."
   ]
  },
  {
   "cell_type": "code",
   "execution_count": 59,
   "metadata": {},
   "outputs": [
    {
     "name": "stdout",
     "output_type": "stream",
     "text": [
      "Tips yang diperoleh bila Waktu bekerja (Hours Worked) selama 5 jam dengan Dollar/Hour sebesar 2 adalah 1.9426999999999968\n"
     ]
    }
   ],
   "source": [
    "#Prediksi Tips yang diperoleh berdasarkan Uji Multiple Regression diatas\n",
    "\n",
    "def model(x1,x2) :\n",
    "    Y = -40.9150 + (5.5817*x1) + (7.4746*x2)\n",
    "    return Y\n",
    "\n",
    "print(f'Tips yang diperoleh bila Waktu bekerja (Hours Worked) selama 5 jam dengan Dollar/Hour sebesar 2 adalah {model(5,2)}')"
   ]
  }
 ],
 "metadata": {
  "kernelspec": {
   "display_name": "Python 3",
   "language": "python",
   "name": "python3"
  },
  "language_info": {
   "codemirror_mode": {
    "name": "ipython",
    "version": 3
   },
   "file_extension": ".py",
   "mimetype": "text/x-python",
   "name": "python",
   "nbconvert_exporter": "python",
   "pygments_lexer": "ipython3",
   "version": "3.11.4"
  },
  "orig_nbformat": 4
 },
 "nbformat": 4,
 "nbformat_minor": 2
}
